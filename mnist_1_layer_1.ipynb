{
  "nbformat": 4,
  "nbformat_minor": 0,
  "metadata": {
    "colab": {
      "name": "mnist_1_layer_1.ipynb",
      "version": "0.3.2",
      "provenance": [],
      "include_colab_link": true
    },
    "kernelspec": {
      "name": "python3",
      "display_name": "Python 3"
    }
  },
  "cells": [
    {
      "cell_type": "markdown",
      "metadata": {
        "id": "view-in-github",
        "colab_type": "text"
      },
      "source": [
        "[View in Colaboratory](https://colab.research.google.com/github/malinenimaurya/Deep-Learning/blob/master/mnist_1_layer_1.ipynb)"
      ]
    },
    {
      "metadata": {
        "id": "TC5XNEBRF3ec",
        "colab_type": "code",
        "colab": {
          "base_uri": "https://localhost:8080/",
          "height": 85
        },
        "outputId": "f4ea8f8a-3463-4493-9169-1aa27dfa932c"
      },
      "cell_type": "code",
      "source": [
        "import tensorflow as tf\n",
        "from tensorflow.examples.tutorials.mnist import input_data\n",
        "mnist = input_data.read_data_sets(\"MNIST_data/\", one_hot=True)\n"
      ],
      "execution_count": 13,
      "outputs": [
        {
          "output_type": "stream",
          "text": [
            "Extracting MNIST_data/train-images-idx3-ubyte.gz\n",
            "Extracting MNIST_data/train-labels-idx1-ubyte.gz\n",
            "Extracting MNIST_data/t10k-images-idx3-ubyte.gz\n",
            "Extracting MNIST_data/t10k-labels-idx1-ubyte.gz\n"
          ],
          "name": "stdout"
        }
      ]
    },
    {
      "metadata": {
        "id": "YrHNSJyOHJ12",
        "colab_type": "code",
        "colab": {}
      },
      "cell_type": "code",
      "source": [
        "# model\n",
        "X = tf.placeholder(tf.float32, [None, 784])\n",
        "W = tf.Variable(tf.zeros([784, 10]))\n",
        "b = tf.Variable(tf.zeros([10]))\n",
        "\n",
        "Ylogits = tf.matmul(X, W) + b\n",
        "Y = tf.nn.softmax(Ylogits)\n",
        "# placeholder for correct labels\n",
        "Y_ = tf.placeholder(tf.float32, [None, 10])\n",
        "\n",
        "# loss function\n",
        "cross_entropy = tf.nn.softmax_cross_entropy_with_logits(logits=Ylogits, labels=Y_)\n",
        "cross_entropy = tf.reduce_mean(cross_entropy)*100\n",
        "# % of correct answers found in batch\n",
        "is_correct = tf.equal(tf.argmax(Y,1), tf.argmax(Y_,1))\n",
        "accuracy = tf.reduce_mean(tf.cast(is_correct, tf.float32))"
      ],
      "execution_count": 0,
      "outputs": []
    },
    {
      "metadata": {
        "id": "1NEUXOHRHnT7",
        "colab_type": "code",
        "colab": {}
      },
      "cell_type": "code",
      "source": [
        "optimizer = tf.train.GradientDescentOptimizer(0.003)\n",
        "train_step = optimizer.minimize(cross_entropy)"
      ],
      "execution_count": 0,
      "outputs": []
    },
    {
      "metadata": {
        "id": "oVKoAYSwHplk",
        "colab_type": "code",
        "colab": {
          "base_uri": "https://localhost:8080/",
          "height": 357
        },
        "outputId": "dbe0bb37-7394-417d-e692-b3fe9ebbae22"
      },
      "cell_type": "code",
      "source": [
        "init = tf.global_variables_initializer()\n",
        "sess = tf.Session()\n",
        "sess.run(init)\n",
        "\n",
        "for i in range(1000):\n",
        "    # load batch of images and correct answers\n",
        "    batch_X, batch_Y = mnist.train.next_batch(100)\n",
        "    train_data={X: batch_X, Y_: batch_Y}\n",
        "\n",
        "    # train\n",
        "    sess.run(train_step, feed_dict=train_data)\n",
        "    if i%50 == 0:\n",
        "      a,c = sess.run([accuracy, cross_entropy], feed_dict=train_data)\n",
        "      print(\"iteration:\"+ str(i) + \", accuracy:\" + str(a) +\", cross_entropy:\"+ str(c))"
      ],
      "execution_count": 16,
      "outputs": [
        {
          "output_type": "stream",
          "text": [
            "iteration:0, accuracy:0.71, cross_entropy:189.28107\n",
            "iteration:50, accuracy:0.86, cross_entropy:51.320995\n",
            "iteration:100, accuracy:0.98, cross_entropy:23.966784\n",
            "iteration:150, accuracy:0.94, cross_entropy:26.987427\n",
            "iteration:200, accuracy:0.9, cross_entropy:33.63921\n",
            "iteration:250, accuracy:0.92, cross_entropy:31.463411\n",
            "iteration:300, accuracy:0.87, cross_entropy:36.748325\n",
            "iteration:350, accuracy:0.94, cross_entropy:22.741812\n",
            "iteration:400, accuracy:0.88, cross_entropy:42.532932\n",
            "iteration:450, accuracy:0.92, cross_entropy:27.190983\n",
            "iteration:500, accuracy:0.91, cross_entropy:28.555828\n",
            "iteration:550, accuracy:0.91, cross_entropy:27.687395\n",
            "iteration:600, accuracy:0.97, cross_entropy:16.614452\n",
            "iteration:650, accuracy:0.96, cross_entropy:21.973661\n",
            "iteration:700, accuracy:0.96, cross_entropy:17.807928\n",
            "iteration:750, accuracy:0.94, cross_entropy:24.80117\n",
            "iteration:800, accuracy:0.87, cross_entropy:33.995796\n",
            "iteration:850, accuracy:0.94, cross_entropy:33.627533\n",
            "iteration:900, accuracy:0.93, cross_entropy:22.110056\n",
            "iteration:950, accuracy:0.89, cross_entropy:33.823505\n"
          ],
          "name": "stdout"
        }
      ]
    },
    {
      "metadata": {
        "id": "CtRfbEofIjn4",
        "colab_type": "code",
        "colab": {}
      },
      "cell_type": "code",
      "source": [
        "a,c = sess.run([accuracy, cross_entropy], feed_dict=train_data)"
      ],
      "execution_count": 0,
      "outputs": []
    },
    {
      "metadata": {
        "id": "R3XywgUXKFS9",
        "colab_type": "code",
        "colab": {
          "base_uri": "https://localhost:8080/",
          "height": 34
        },
        "outputId": "a8da5f50-a597-483b-f2e8-24c3982a822c"
      },
      "cell_type": "code",
      "source": [
        "print(a,c)"
      ],
      "execution_count": 18,
      "outputs": [
        {
          "output_type": "stream",
          "text": [
            "0.89 33.216328\n"
          ],
          "name": "stdout"
        }
      ]
    },
    {
      "metadata": {
        "id": "ATiDsbGBKLbL",
        "colab_type": "code",
        "colab": {}
      },
      "cell_type": "code",
      "source": [
        "test_data={X: mnist.test.images, Y_: mnist.test.labels}\n",
        "a,c = sess.run([accuracy, cross_entropy], feed_dict=test_data)"
      ],
      "execution_count": 0,
      "outputs": []
    },
    {
      "metadata": {
        "id": "TqUSLEaJMepV",
        "colab_type": "code",
        "colab": {
          "base_uri": "https://localhost:8080/",
          "height": 34
        },
        "outputId": "33731fdb-58ee-4227-9e81-9a6587ccea9b"
      },
      "cell_type": "code",
      "source": [
        "print(a,c)"
      ],
      "execution_count": 20,
      "outputs": [
        {
          "output_type": "stream",
          "text": [
            "0.9193 29.40644\n"
          ],
          "name": "stdout"
        }
      ]
    },
    {
      "metadata": {
        "id": "CDydQWLiUoJF",
        "colab_type": "code",
        "colab": {}
      },
      "cell_type": "code",
      "source": [
        ""
      ],
      "execution_count": 0,
      "outputs": []
    }
  ]
}