{
  "nbformat": 4,
  "nbformat_minor": 0,
  "metadata": {
    "colab": {
      "name": "CNN_1.ipynb",
      "version": "0.3.2",
      "provenance": [],
      "include_colab_link": true
    },
    "kernelspec": {
      "name": "python3",
      "display_name": "Python 3"
    }
  },
  "cells": [
    {
      "cell_type": "markdown",
      "metadata": {
        "id": "view-in-github",
        "colab_type": "text"
      },
      "source": [
        "[View in Colaboratory](https://colab.research.google.com/github/malinenimaurya/Deep-Learning/blob/master/CNN_1.ipynb)"
      ]
    },
    {
      "metadata": {
        "id": "ITJqTTwFn_ea",
        "colab_type": "code",
        "colab": {
          "base_uri": "https://localhost:8080/",
          "height": 85
        },
        "outputId": "f2b4e852-90ca-409d-97b2-3ad66a6e468b"
      },
      "cell_type": "code",
      "source": [
        "import tensorflow as tf\n",
        "import matplotlib.pyplot as plt\n",
        "import numpy as np\n",
        "from tensorflow.examples.tutorials.mnist import input_data\n",
        "mnist = input_data.read_data_sets(\"MNIST_data/\", one_hot=True)\n",
        "tf.set_random_seed(0)"
      ],
      "execution_count": 53,
      "outputs": [
        {
          "output_type": "stream",
          "text": [
            "Extracting MNIST_data/train-images-idx3-ubyte.gz\n",
            "Extracting MNIST_data/train-labels-idx1-ubyte.gz\n",
            "Extracting MNIST_data/t10k-images-idx3-ubyte.gz\n",
            "Extracting MNIST_data/t10k-labels-idx1-ubyte.gz\n"
          ],
          "name": "stdout"
        }
      ]
    },
    {
      "metadata": {
        "id": "_GIgROLwntzF",
        "colab_type": "code",
        "colab": {}
      },
      "cell_type": "code",
      "source": [
        "#Initialisation\n",
        "W1 = tf.Variable(tf.truncated_normal([5, 5, 1, 4], stddev=0.1))\n",
        "B1 = tf.Variable(tf.ones([4])/10)\n",
        "W2 = tf.Variable(tf.truncated_normal([5, 5, 4, 8], stddev=0.1))\n",
        "B2 = tf.Variable(tf.ones([8])/10)\n",
        "W3 = tf.Variable(tf.truncated_normal([4, 4, 8, 12], stddev=0.1))\n",
        "B3 = tf.Variable(tf.ones([12])/10)\n",
        "W4 = tf.Variable(tf.truncated_normal([7 * 7 * 12, 200], stddev=0.1))\n",
        "B4 = tf.Variable(tf.ones([200])/10)\n",
        "W5 = tf.Variable(tf.truncated_normal([200, 10], stddev=0.1))\n",
        "B5 = tf.Variable(tf.ones([10])/10)\n",
        "\n",
        "X = tf.placeholder(tf.float32, [None, 28, 28, 1])\n",
        "\n",
        "# correct answers will go here\n",
        "Y_ = tf.placeholder(tf.float32, [None, 10])\n"
      ],
      "execution_count": 0,
      "outputs": []
    },
    {
      "metadata": {
        "id": "P_j8nUqSpi9X",
        "colab_type": "code",
        "colab": {}
      },
      "cell_type": "code",
      "source": [
        "# The model\n",
        "stride = 1  # output is 28x28\n",
        "Y1 = tf.nn.relu(tf.nn.conv2d(X, W1, strides=[1, stride, stride, 1], padding='SAME') + B1)\n",
        "stride = 2  # output is 14x14\n",
        "Y2 = tf.nn.relu(tf.nn.conv2d(Y1, W2, strides=[1, stride, stride, 1], padding='SAME') + B2)\n",
        "stride = 2  # output is 7x7\n",
        "Y3 = tf.nn.relu(tf.nn.conv2d(Y2, W3, strides=[1, stride, stride, 1], padding='SAME') + B3)\n",
        "\n",
        "# reshape the output from the third convolution for the fully connected layer\n",
        "YY = tf.reshape(Y3, shape=[-1, 7 * 7 * 12])\n",
        "\n",
        "Y4 = tf.nn.relu(tf.matmul(YY, W4) + B4)\n",
        "Ylogits = tf.matmul(Y4, W5) + B5\n",
        "Y = tf.nn.softmax(Ylogits)\n",
        "\n",
        "# loss function\n",
        "cross_entropy = tf.nn.softmax_cross_entropy_with_logits(logits=Ylogits, labels=Y_)\n",
        "cross_entropy = tf.reduce_mean(cross_entropy)*100\n",
        "\n",
        "# accuracy of the model\n",
        "is_correct = tf.equal(tf.argmax(Y,1), tf.argmax(Y_,1))\n",
        "accuracy = tf.reduce_mean(tf.cast(is_correct, tf.float32))"
      ],
      "execution_count": 0,
      "outputs": []
    },
    {
      "metadata": {
        "id": "4urHcM73Fy8u",
        "colab_type": "code",
        "colab": {}
      },
      "cell_type": "code",
      "source": [
        "optimizer = tf.train.AdamOptimizer(0.003)         #can use RMSprop, Adadelta, gradientdescent etc\n",
        "train_step = optimizer.minimize(cross_entropy)"
      ],
      "execution_count": 0,
      "outputs": []
    },
    {
      "metadata": {
        "id": "87awJv-6GZRk",
        "colab_type": "code",
        "colab": {
          "base_uri": "https://localhost:8080/",
          "height": 187
        },
        "outputId": "b7926f8d-8659-44e0-bc7b-8095e6b32d30"
      },
      "cell_type": "code",
      "source": [
        "init = tf.global_variables_initializer()\n",
        "sess = tf.Session()\n",
        "sess.run(init)\n",
        "accuracy_history = []\n",
        "for i in range(500):\n",
        "    # load batch of images and correct answers\n",
        "    batch_X, batch_Y = mnist.train.next_batch(100)\n",
        "    batch_X = np.reshape(batch_X, (-1, 28, 28, 1))\n",
        "    train_data={X: batch_X, Y_: batch_Y}\n",
        "\n",
        "    # train\n",
        "    sess.run(train_step, feed_dict=train_data)\n",
        "    if i%50 == 0:\n",
        "      a,c = sess.run([accuracy, cross_entropy], feed_dict=train_data)\n",
        "      accuracy_history.append(a)\n",
        "      print(\"iteration:\"+ str(i) + \", accuracy:\" + str(a) +\", cross_entropy:\"+ str(c))"
      ],
      "execution_count": 57,
      "outputs": [
        {
          "output_type": "stream",
          "text": [
            "iteration:0, accuracy:0.15, cross_entropy:221.53511\n",
            "iteration:50, accuracy:0.92, cross_entropy:24.191483\n",
            "iteration:100, accuracy:0.96, cross_entropy:12.811345\n",
            "iteration:150, accuracy:0.96, cross_entropy:11.856065\n",
            "iteration:200, accuracy:0.97, cross_entropy:9.211962\n",
            "iteration:250, accuracy:0.97, cross_entropy:11.533002\n",
            "iteration:300, accuracy:0.95, cross_entropy:9.384922\n",
            "iteration:350, accuracy:0.99, cross_entropy:4.409821\n",
            "iteration:400, accuracy:0.98, cross_entropy:8.242412\n",
            "iteration:450, accuracy:0.99, cross_entropy:3.2830899\n"
          ],
          "name": "stdout"
        }
      ]
    },
    {
      "metadata": {
        "id": "Z0DkVqsCGa4G",
        "colab_type": "code",
        "colab": {
          "base_uri": "https://localhost:8080/",
          "height": 376
        },
        "outputId": "96c9c978-5522-44bb-8189-5aaf9c3202e3"
      },
      "cell_type": "code",
      "source": [
        "plt.plot(range(len(accuracy_history)), accuracy_history)\n",
        "plt.xlabel('Iterations ')\n",
        "plt.ylabel('Accuracy_History ')\n",
        "plt.title(\"Accuracy per 50 iterations Graph\")\n",
        "plt.show()"
      ],
      "execution_count": 58,
      "outputs": [
        {
          "output_type": "display_data",
          "data": {
            "image/png": "[encoded data removed]",
            "text/plain": [
              "<matplotlib.figure.Figure at 0x7f75425c0ba8>"
            ]
          },
          "metadata": {
            "tags": []
          }
        }
      ]
    },
    {
      "metadata": {
        "id": "Hs93edqLLTqf",
        "colab_type": "code",
        "colab": {
          "base_uri": "https://localhost:8080/",
          "height": 34
        },
        "outputId": "3fd8d275-796c-4241-f7d7-c31b1c85822e"
      },
      "cell_type": "code",
      "source": [
        "a,c = sess.run([accuracy, cross_entropy], feed_dict=train_data)\n",
        "print(a,c)"
      ],
      "execution_count": 59,
      "outputs": [
        {
          "output_type": "stream",
          "text": [
            "0.98 6.3180404\n"
          ],
          "name": "stdout"
        }
      ]
    },
    {
      "metadata": {
        "id": "2Je4qn-CLW4P",
        "colab_type": "code",
        "colab": {}
      },
      "cell_type": "code",
      "source": [
        "test_data={X: mnist.test.images, Y_: mnist.test.labels}\n",
        "test_data[X] = np.reshape(test_data[X], (-1, 28, 28, 1))\n",
        "a,c = sess.run([accuracy, cross_entropy], feed_dict=test_data)\n"
      ],
      "execution_count": 0,
      "outputs": []
    },
    {
      "metadata": {
        "id": "XwCpfGuILZrC",
        "colab_type": "code",
        "colab": {
          "base_uri": "https://localhost:8080/",
          "height": 34
        },
        "outputId": "90b34ce1-9981-4edf-9ca5-11071d3ba9cf"
      },
      "cell_type": "code",
      "source": [
        "print(a,c)"
      ],
      "execution_count": 61,
      "outputs": [
        {
          "output_type": "stream",
          "text": [
            "0.9782 6.848772\n"
          ],
          "name": "stdout"
        }
      ]
    },
    {
      "metadata": {
        "id": "v3n97q2UNJz0",
        "colab_type": "code",
        "colab": {}
      },
      "cell_type": "code",
      "source": [
        ""
      ],
      "execution_count": 0,
      "outputs": []
    }
  ]
}