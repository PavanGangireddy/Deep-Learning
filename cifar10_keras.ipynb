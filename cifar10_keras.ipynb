{
  "nbformat": 4,
  "nbformat_minor": 0,
  "metadata": {
    "colab": {
      "name": "cifar10_keras.ipynb",
      "version": "0.3.2",
      "provenance": [],
      "include_colab_link": true
    },
    "kernelspec": {
      "name": "python3",
      "display_name": "Python 3"
    }
  },
  "cells": [
    {
      "cell_type": "markdown",
      "metadata": {
        "id": "view-in-github",
        "colab_type": "text"
      },
      "source": [
        "[View in Colaboratory](https://colab.research.google.com/github/malinenimaurya/Deep-Learning/blob/master/cifar10_keras.ipynb)"
      ]
    },
    {
      "metadata": {
        "id": "3QlB0Z6py72X",
        "colab_type": "code",
        "colab": {
          "base_uri": "https://localhost:8080/",
          "height": 68
        },
        "outputId": "ea5ee774-167f-4402-9d44-2b452c9193d1"
      },
      "cell_type": "code",
      "source": [
        "import numpy as np\n",
        "from matplotlib import pyplot as plt\n",
        "from keras.models import Sequential\n",
        "from keras.layers.core import Dense, Dropout, Flatten\n",
        "from keras.layers import Conv2D, MaxPooling2D\n",
        "from keras.optimizers import SGD, Adam, RMSprop\n",
        "from keras.utils import to_categorical\n",
        "from keras.datasets import cifar10\n",
        "np.random.seed(10)\n",
        "\n",
        "#Loading data\n",
        "(x_train, y_train), (x_test, y_test) = cifar10.load_data()\n",
        "print(x_train.shape)\n",
        "print(x_test.shape)"
      ],
      "execution_count": 1,
      "outputs": [
        {
          "output_type": "stream",
          "text": [
            "Using TensorFlow backend.\n"
          ],
          "name": "stderr"
        },
        {
          "output_type": "stream",
          "text": [
            "(50000, 32, 32, 3)\n",
            "(10000, 32, 32, 3)\n"
          ],
          "name": "stdout"
        }
      ]
    },
    {
      "metadata": {
        "id": "iVIGYm6Ty80p",
        "colab_type": "code",
        "colab": {
          "base_uri": "https://localhost:8080/",
          "height": 85
        },
        "outputId": "529021c7-4a5d-4ce6-c431-6003e8850c54"
      },
      "cell_type": "code",
      "source": [
        "#Normalising the data and dividing the dataset into two halves for training one model from scratch and on other halve to perform transfer learning\n",
        "\n",
        "X1_train = []\n",
        "X1_test = []\n",
        "X2_train = []\n",
        "X2_test = []\n",
        "Y1_train = []\n",
        "Y1_test = []\n",
        "Y2_train = []\n",
        "Y2_test = []\n",
        "\n",
        "for i in range(x_train.shape[0]):\n",
        "    if y_train[i] < 5:\n",
        "        # put data in set 1\n",
        "        X1_train.append(x_train[i]/255.0)\n",
        "        Y1_train.append(y_train[i])\n",
        "    else:\n",
        "        # put data in set 2\n",
        "        X2_train.append(x_train[i]/255.0)\n",
        "        Y2_train.append(y_train[i])\n",
        "\n",
        "for i in range(x_test.shape[0]):\n",
        "    if y_test[i] < 5:\n",
        "        # put data in set 1\n",
        "        X1_test.append(x_test[i]/255.0)\n",
        "        Y1_test.append(y_test[i])\n",
        "    else:\n",
        "        # put data in set 2\n",
        "        X2_test.append(x_test[i]/255.0)\n",
        "        Y2_test.append(y_test[i])\n",
        "\n",
        "#Converting to numpy array\n",
        "\n",
        "X1_train = np.asarray(X1_train).reshape((-1, 32, 32, 3))\n",
        "X1_test = np.asarray(X1_test).reshape((-1, 32, 32, 3))\n",
        "X2_train = np.asarray(X2_train).reshape((-1, 32, 32, 3))\n",
        "X2_test = np.asarray(X2_test).reshape((-1, 32, 32, 3))\n",
        "\n",
        "#one hot encoding\n",
        "Y1_train = to_categorical(Y1_train)\n",
        "Y1_test = to_categorical(Y1_test)\n",
        "\n",
        "Y2_train = to_categorical(Y2_train)\n",
        "Y2_test = to_categorical(Y2_test)\n",
        "\n",
        "print (X1_train.shape, X1_test.shape)\n",
        "print (Y1_train.shape, Y1_test.shape)\n",
        "print (X2_train.shape, X2_test.shape)\n",
        "print (Y2_train.shape, Y2_test.shape)\n",
        "\n",
        "#Splitting into train and validation \n",
        "split1 = int(0.8 * X1_train.shape[0])\n",
        "split2 = int(0.8 * X2_train.shape[0])\n",
        "\n",
        "x1_val = X1_train[split1:]\n",
        "x1_train = X1_train[:split1]\n",
        "y1_val = Y1_train[split1:]\n",
        "y1_train = Y1_train[:split1]\n",
        "\n",
        "x2_val = X2_train[split2:]\n",
        "x2_train = X2_train[:split2]\n",
        "y2_val = Y2_train[split2:]\n",
        "y2_train = Y2_train[:split2]\n"
      ],
      "execution_count": 2,
      "outputs": [
        {
          "output_type": "stream",
          "text": [
            "(25000, 32, 32, 3) (5000, 32, 32, 3)\n",
            "(25000, 5) (5000, 5)\n",
            "(25000, 32, 32, 3) (5000, 32, 32, 3)\n",
            "(25000, 10) (5000, 10)\n"
          ],
          "name": "stdout"
        }
      ]
    },
    {
      "metadata": {
        "id": "sWe3IHa3zFVf",
        "colab_type": "code",
        "colab": {}
      },
      "cell_type": "code",
      "source": [
        "# Code for model architecture\n",
        "model = Sequential()\n"
      ],
      "execution_count": 0,
      "outputs": []
    },
    {
      "metadata": {
        "id": "O05fJNPQzeDs",
        "colab_type": "code",
        "colab": {}
      },
      "cell_type": "code",
      "source": [
        "#Measuring the run time of the model\n",
        "import time, datetime\n",
        "\n",
        "start = datetime.datetime.now()\n",
        "hist1 = model.fit(x1_train, y1_train,\n",
        "         epochs=10,\n",
        "         shuffle=True,\n",
        "         batch_size=100,\n",
        "         validation_data=(x1_val, y1_val), verbose=2)\n",
        "\n",
        "time_taken = datetime.datetime.now() - start\n",
        "print ('\\n'*2, '-'*20, '\\n')\n",
        "print ('Time taken for first training: ', time_taken)\n",
        "print ('\\n', '-'*20, '\\n'*2)"
      ],
      "execution_count": 0,
      "outputs": []
    }
  ]
}