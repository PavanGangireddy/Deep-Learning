{
  "nbformat": 4,
  "nbformat_minor": 0,
  "metadata": {
    "colab": {
      "name": "CNN_1_keras.ipynb",
      "version": "0.3.2",
      "provenance": [],
      "include_colab_link": true
    },
    "kernelspec": {
      "name": "python3",
      "display_name": "Python 3"
    }
  },
  "cells": [
    {
      "cell_type": "markdown",
      "metadata": {
        "id": "view-in-github",
        "colab_type": "text"
      },
      "source": [
        "[View in Colaboratory](https://colab.research.google.com/github/malinenimaurya/Deep-Learning/blob/master/CNN_1_keras.ipynb)"
      ]
    },
    {
      "metadata": {
        "id": "cIRZgaQzBymK",
        "colab_type": "code",
        "colab": {}
      },
      "cell_type": "code",
      "source": [
        "#Necessary imports\n",
        "from keras.datasets import mnist\n",
        "from keras.models import Sequential\n",
        "from keras.layers.core import Dense, Dropout, Flatten\n",
        "from keras.layers import Conv2D\n",
        "from keras.optimizers import SGD, Adam, RMSprop\n",
        "from keras.utils import to_categorical\n",
        "import numpy as np\n",
        "np.random.seed(10)"
      ],
      "execution_count": 0,
      "outputs": []
    },
    {
      "metadata": {
        "id": "lWXnZCoTHtng",
        "colab_type": "code",
        "colab": {
          "base_uri": "https://localhost:8080/",
          "height": 51
        },
        "outputId": "4946b72c-34aa-4d58-9c07-f82bd82bad1d"
      },
      "cell_type": "code",
      "source": [
        "#Loading data and preprocessing\n",
        "(X_train, y_train), (X_test, y_test) = mnist.load_data()\n",
        "print(X_train.shape)\n",
        "print(X_test.shape)"
      ],
      "execution_count": 3,
      "outputs": [
        {
          "output_type": "stream",
          "text": [
            "(60000, 28, 28)\n",
            "(10000, 28, 28)\n"
          ],
          "name": "stdout"
        }
      ]
    },
    {
      "metadata": {
        "id": "M6kroUT0Hua5",
        "colab_type": "code",
        "colab": {}
      },
      "cell_type": "code",
      "source": [
        "X_train = X_train.reshape(60000, 1, 28, 28)\n",
        "X_test = X_test.reshape(10000, 1, 28, 28)\n",
        "X_train = X_train.astype('float32')\n",
        "X_test = X_test.astype('float32')\n",
        "X_train /= 255\n",
        "X_test /= 255"
      ],
      "execution_count": 0,
      "outputs": []
    },
    {
      "metadata": {
        "id": "AmT90CcZIcH0",
        "colab_type": "code",
        "colab": {}
      },
      "cell_type": "code",
      "source": [
        "#one hot encoding\n",
        "Y_train = to_categorical(y_train)\n",
        "Y_test = to_categorical(y_test)"
      ],
      "execution_count": 0,
      "outputs": []
    },
    {
      "metadata": {
        "id": "uVbh2D8eIe0P",
        "colab_type": "code",
        "colab": {}
      },
      "cell_type": "code",
      "source": [
        "#model\n",
        "model = Sequential()\n",
        "model.add(Conv2D(filters=4, kernel_size=(5,5), strides=(1, 1), padding='same', activation='relu',input_shape=(1,28,28))) #By default takes stride 1 if not mentioned and padding as valid\n",
        "model.add(Conv2D(filters=8, kernel_size=(4,4), strides=(2, 2), padding='same', activation='relu'))\n",
        "model.add(Conv2D(filters=12, kernel_size=(4,4), strides=(2, 2), padding='same', activation='relu'))\n",
        "model.add(Flatten())\n",
        "model.add(Dense(200, activation='relu'))\n",
        "model.add(Dense(10, activation='softmax'))"
      ],
      "execution_count": 0,
      "outputs": []
    },
    {
      "metadata": {
        "id": "s2bW5kvbKv1l",
        "colab_type": "code",
        "colab": {}
      },
      "cell_type": "code",
      "source": [
        "#Compiling the model where loss fn and optimiser is defined\n",
        "model.compile(loss='categorical_crossentropy', optimizer= RMSprop(), metrics=['accuracy'])"
      ],
      "execution_count": 0,
      "outputs": []
    },
    {
      "metadata": {
        "id": "sZAAR8qFLfzD",
        "colab_type": "code",
        "colab": {
          "base_uri": "https://localhost:8080/",
          "height": 394
        },
        "outputId": "29597fd9-9ee5-4e0b-eabf-f56c37bf0eae"
      },
      "cell_type": "code",
      "source": [
        "#Training the model and testing\n",
        "history = model.fit(X_train, Y_train, batch_size=100, epochs=10, verbose=1, validation_data=(X_test, Y_test))"
      ],
      "execution_count": 20,
      "outputs": [
        {
          "output_type": "stream",
          "text": [
            "Train on 60000 samples, validate on 10000 samples\n",
            "Epoch 1/10\n",
            "60000/60000 [==============================] - 11s 181us/step - loss: 0.6474 - acc: 0.8048 - val_loss: 0.3167 - val_acc: 0.9034\n",
            "Epoch 2/10\n",
            "60000/60000 [==============================] - 11s 183us/step - loss: 0.2669 - acc: 0.9168 - val_loss: 0.1828 - val_acc: 0.9461\n",
            "Epoch 3/10\n",
            "12200/60000 [=====>........................] - ETA: 8s - loss: 0.1962 - acc: 0.9389"
          ],
          "name": "stdout"
        },
        {
          "output_type": "stream",
          "text": [
            "60000/60000 [==============================] - 11s 179us/step - loss: 0.1824 - acc: 0.9442 - val_loss: 0.1432 - val_acc: 0.9557\n",
            "Epoch 4/10\n",
            "60000/60000 [==============================] - 11s 180us/step - loss: 0.1457 - acc: 0.9548 - val_loss: 0.1179 - val_acc: 0.9648\n",
            "Epoch 5/10\n",
            "38200/60000 [==================>...........] - ETA: 3s - loss: 0.1210 - acc: 0.9614"
          ],
          "name": "stdout"
        },
        {
          "output_type": "stream",
          "text": [
            "60000/60000 [==============================] - 11s 185us/step - loss: 0.1221 - acc: 0.9620 - val_loss: 0.1067 - val_acc: 0.9663\n",
            "Epoch 6/10\n",
            "60000/60000 [==============================] - 11s 185us/step - loss: 0.1082 - acc: 0.9662 - val_loss: 0.1037 - val_acc: 0.9690\n",
            "Epoch 7/10\n",
            "42400/60000 [====================>.........] - ETA: 3s - loss: 0.0971 - acc: 0.9705"
          ],
          "name": "stdout"
        },
        {
          "output_type": "stream",
          "text": [
            "60000/60000 [==============================] - 11s 181us/step - loss: 0.0967 - acc: 0.9704 - val_loss: 0.1103 - val_acc: 0.9666\n",
            "Epoch 8/10\n",
            "60000/60000 [==============================] - 11s 181us/step - loss: 0.0878 - acc: 0.9723 - val_loss: 0.0908 - val_acc: 0.9727\n",
            "Epoch 9/10\n",
            "47500/60000 [======================>.......] - ETA: 2s - loss: 0.0821 - acc: 0.9745"
          ],
          "name": "stdout"
        },
        {
          "output_type": "stream",
          "text": [
            "60000/60000 [==============================] - 11s 180us/step - loss: 0.0807 - acc: 0.9749 - val_loss: 0.0944 - val_acc: 0.9707\n",
            "Epoch 10/10\n",
            "60000/60000 [==============================] - 11s 183us/step - loss: 0.0753 - acc: 0.9756 - val_loss: 0.0844 - val_acc: 0.9743\n"
          ],
          "name": "stdout"
        }
      ]
    },
    {
      "metadata": {
        "id": "NAMXnd1GLjP2",
        "colab_type": "code",
        "colab": {}
      },
      "cell_type": "code",
      "source": [
        ""
      ],
      "execution_count": 0,
      "outputs": []
    }
  ]
}