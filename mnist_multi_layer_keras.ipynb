{
  "nbformat": 4,
  "nbformat_minor": 0,
  "metadata": {
    "colab": {
      "name": "mnist_multi_layer_keras.ipynb",
      "version": "0.3.2",
      "provenance": [],
      "include_colab_link": true
    },
    "kernelspec": {
      "name": "python3",
      "display_name": "Python 3"
    }
  },
  "cells": [
    {
      "cell_type": "markdown",
      "metadata": {
        "id": "view-in-github",
        "colab_type": "text"
      },
      "source": [
        "[View in Colaboratory](https://colab.research.google.com/github/malinenimaurya/Deep-Learning/blob/master/mnist_multi_layer_keras.ipynb)"
      ]
    },
    {
      "metadata": {
        "id": "IM_wYiDuZyKl",
        "colab_type": "code",
        "colab": {}
      },
      "cell_type": "code",
      "source": [
        "#Necessary imports\n",
        "from keras.datasets import mnist\n",
        "from keras.models import Sequential\n",
        "from keras.layers.core import Dense, Dropout\n",
        "from keras.optimizers import SGD, Adam, RMSprop\n",
        "from keras.utils import to_categorical\n",
        "import numpy as np\n",
        "np.random.seed(10)"
      ],
      "execution_count": 0,
      "outputs": []
    },
    {
      "metadata": {
        "id": "owsvTiEIwP_e",
        "colab_type": "code",
        "colab": {
          "base_uri": "https://localhost:8080/",
          "height": 34
        },
        "outputId": "e9192ce4-0e66-41a3-93ec-fc23d3d3d130"
      },
      "cell_type": "code",
      "source": [
        "#Loading data and preprocessing\n",
        "(X_train, y_train), (X_test, y_test) = mnist.load_data()\n",
        "print(X_train.shape)\n"
      ],
      "execution_count": 89,
      "outputs": [
        {
          "output_type": "stream",
          "text": [
            "(60000, 28, 28)\n"
          ],
          "name": "stdout"
        }
      ]
    },
    {
      "metadata": {
        "id": "me8cyjp9wUuS",
        "colab_type": "code",
        "colab": {}
      },
      "cell_type": "code",
      "source": [
        "X_train = X_train.reshape(60000, 784)\n",
        "X_test = X_test.reshape(10000, 784)\n",
        "X_train = X_train.astype('float32')\n",
        "X_test = X_test.astype('float32')\n",
        "X_train /= 255\n",
        "X_test /= 255"
      ],
      "execution_count": 0,
      "outputs": []
    },
    {
      "metadata": {
        "id": "9tTRx1Qlwtqa",
        "colab_type": "code",
        "colab": {}
      },
      "cell_type": "code",
      "source": [
        "#one hot encoding\n",
        "Y_train = to_categorical(y_train)\n",
        "Y_test = to_categorical(y_test)"
      ],
      "execution_count": 0,
      "outputs": []
    },
    {
      "metadata": {
        "id": "fwPE77w2zpVL",
        "colab_type": "code",
        "colab": {
          "base_uri": "https://localhost:8080/",
          "height": 34
        },
        "outputId": "9c7eba8e-2a8f-4bfb-ef15-ce811d75bad0"
      },
      "cell_type": "code",
      "source": [
        "Y_train[0]"
      ],
      "execution_count": 92,
      "outputs": [
        {
          "output_type": "execute_result",
          "data": {
            "text/plain": [
              "array([0., 0., 0., 0., 0., 1., 0., 0., 0., 0.], dtype=float32)"
            ]
          },
          "metadata": {
            "tags": []
          },
          "execution_count": 92
        }
      ]
    },
    {
      "metadata": {
        "id": "c3TeXfXsx4jx",
        "colab_type": "code",
        "colab": {}
      },
      "cell_type": "code",
      "source": [
        "#model\n",
        "model = Sequential()\n",
        "model.add(Dense(200, activation='relu',input_shape=(784,))) #By default makes random weight initialisation and zero for bias. To modify use kernel_initializer arg for weights and bias_initializer for biases\n",
        "model.add(Dense(150, activation='relu'))\n",
        "model.add(Dropout(0.7))\n",
        "model.add(Dense(100, activation='relu'))\n",
        "model.add(Dropout(0.7))\n",
        "model.add(Dense(50, activation='relu'))\n",
        "model.add(Dropout(0.7))\n",
        "model.add(Dense(10, activation='softmax'))"
      ],
      "execution_count": 0,
      "outputs": []
    },
    {
      "metadata": {
        "id": "vV3LXv8f0Zpa",
        "colab_type": "code",
        "colab": {}
      },
      "cell_type": "code",
      "source": [
        "#Compiling the model where loss fn and optimiser is defined\n",
        "model.compile(loss='categorical_crossentropy', optimizer= RMSprop(), metrics=['accuracy'])"
      ],
      "execution_count": 0,
      "outputs": []
    },
    {
      "metadata": {
        "id": "qqPFXj8x0ajn",
        "colab_type": "code",
        "colab": {
          "base_uri": "https://localhost:8080/",
          "height": 394
        },
        "outputId": "e0093eb0-7ff0-4033-cd97-ead2832e0ab6"
      },
      "cell_type": "code",
      "source": [
        "#Training the model and testing\n",
        "history = model.fit(X_train, Y_train, batch_size=100, epochs=10, verbose=1, validation_data=(X_test, Y_test))"
      ],
      "execution_count": 95,
      "outputs": [
        {
          "output_type": "stream",
          "text": [
            "Train on 60000 samples, validate on 10000 samples\n",
            "Epoch 1/10\n",
            "60000/60000 [==============================] - 6s 93us/step - loss: 1.6264 - acc: 0.4347 - val_loss: 0.7298 - val_acc: 0.8817\n",
            "Epoch 2/10\n",
            "60000/60000 [==============================] - 5s 85us/step - loss: 0.9092 - acc: 0.7353 - val_loss: 0.4272 - val_acc: 0.9200\n",
            "Epoch 3/10\n",
            "60000/60000 [==============================] - 5s 84us/step - loss: 0.6950 - acc: 0.8134 - val_loss: 0.3254 - val_acc: 0.9379\n",
            "Epoch 4/10\n",
            "28200/60000 [=============>................] - ETA: 2s - loss: 0.6100 - acc: 0.8435"
          ],
          "name": "stdout"
        },
        {
          "output_type": "stream",
          "text": [
            "60000/60000 [==============================] - 5s 85us/step - loss: 0.5934 - acc: 0.8495 - val_loss: 0.2901 - val_acc: 0.9462\n",
            "Epoch 5/10\n",
            "60000/60000 [==============================] - 5s 84us/step - loss: 0.5478 - acc: 0.8657 - val_loss: 0.2560 - val_acc: 0.9467\n",
            "Epoch 6/10\n",
            "60000/60000 [==============================] - 5s 83us/step - loss: 0.5176 - acc: 0.8785 - val_loss: 0.2800 - val_acc: 0.9527\n",
            "Epoch 7/10\n",
            "60000/60000 [==============================] - 5s 83us/step - loss: 0.5015 - acc: 0.8853 - val_loss: 0.2873 - val_acc: 0.9530\n"
          ],
          "name": "stdout"
        },
        {
          "output_type": "stream",
          "text": [
            "Epoch 8/10\n",
            "60000/60000 [==============================] - 5s 86us/step - loss: 0.4978 - acc: 0.8873 - val_loss: 0.2559 - val_acc: 0.9493\n",
            "Epoch 9/10\n",
            "60000/60000 [==============================] - 5s 84us/step - loss: 0.4952 - acc: 0.8919 - val_loss: 0.2772 - val_acc: 0.9569\n",
            "Epoch 10/10\n",
            "60000/60000 [==============================] - 5s 84us/step - loss: 0.4859 - acc: 0.8944 - val_loss: 0.2639 - val_acc: 0.9528\n"
          ],
          "name": "stdout"
        }
      ]
    },
    {
      "metadata": {
        "id": "c3CDkpR_8Grt",
        "colab_type": "code",
        "colab": {}
      },
      "cell_type": "code",
      "source": [
        ""
      ],
      "execution_count": 0,
      "outputs": []
    }
  ]
}