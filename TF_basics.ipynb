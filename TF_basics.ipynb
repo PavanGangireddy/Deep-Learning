{
  "nbformat": 4,
  "nbformat_minor": 0,
  "metadata": {
    "colab": {
      "name": "TF_basics.ipynb",
      "version": "0.3.2",
      "provenance": []
    },
    "kernelspec": {
      "name": "python3",
      "display_name": "Python 3"
    }
  },
  "cells": [
    {
      "cell_type": "markdown",
      "metadata": {
        "id": "view-in-github",
        "colab_type": "text"
      },
      "source": [
        "[View in Colaboratory](https://colab.research.google.com/github/malinenimaurya/sample1/blob/master/TF_basics.ipynb)"
      ]
    },
    {
      "metadata": {
        "id": "jCelUPGU9Vzx",
        "colab_type": "code",
        "colab": {
          "base_uri": "https://localhost:8080/",
          "height": 34
        },
        "outputId": "1b293c92-4bea-47ce-a6ee-d16a5529b8eb"
      },
      "cell_type": "code",
      "source": [
        "import tensorflow as tf\n",
        "#Constants\n",
        "a = tf.constant(3.0)\n",
        "b = tf.constant(4.0)\n",
        "print(a,b)"
      ],
      "execution_count": 2,
      "outputs": [
        {
          "output_type": "stream",
          "text": [
            "Tensor(\"Const_2:0\", shape=(), dtype=float32) Tensor(\"Const_3:0\", shape=(), dtype=float32)\n"
          ],
          "name": "stdout"
        }
      ]
    },
    {
      "metadata": {
        "id": "LnO-qFjO-EnN",
        "colab_type": "code",
        "colab": {
          "base_uri": "https://localhost:8080/",
          "height": 34
        },
        "outputId": "40c79c2b-7615-47ac-b0fa-cfa01b64e3f0"
      },
      "cell_type": "code",
      "source": [
        "sess = tf.Session()\n",
        "print(sess.run([a,b]))"
      ],
      "execution_count": 3,
      "outputs": [
        {
          "output_type": "stream",
          "text": [
            "[3.0, 4.0]\n"
          ],
          "name": "stdout"
        }
      ]
    },
    {
      "metadata": {
        "id": "-xk7alu7-d_f",
        "colab_type": "code",
        "colab": {}
      },
      "cell_type": "code",
      "source": [
        "sess.close()"
      ],
      "execution_count": 0,
      "outputs": []
    },
    {
      "metadata": {
        "id": "b1b9dQpU-p56",
        "colab_type": "code",
        "colab": {
          "base_uri": "https://localhost:8080/",
          "height": 34
        },
        "outputId": "42ee2770-e497-4a0a-f2c5-aadbc30a76ac"
      },
      "cell_type": "code",
      "source": [
        "#Placeholders\n",
        "r = tf.placeholder(tf.float32)\n",
        "pi = tf.constant(22/7)\n",
        "Area = pi*r*r\n",
        "sess = tf.Session()\n",
        "print(sess.run(Area,{r:[1,2,3,4]}))"
      ],
      "execution_count": 6,
      "outputs": [
        {
          "output_type": "stream",
          "text": [
            "[ 3.142857 12.571428 28.285715 50.285713]\n"
          ],
          "name": "stdout"
        }
      ]
    },
    {
      "metadata": {
        "id": "cKJmLZ0A_4qY",
        "colab_type": "code",
        "colab": {
          "base_uri": "https://localhost:8080/",
          "height": 34
        },
        "outputId": "e7be74e5-a2c0-46d4-8a00-e1bf557c9581"
      },
      "cell_type": "code",
      "source": [
        "#Variables\n",
        "W = tf.Variable(2.)\n",
        "b = tf.Variable(1.)\n",
        "x = tf.placeholder(tf.float32)\n",
        "linear_model = W*x+b\n",
        "init = tf.global_variables_initializer()\n",
        "sess = tf.Session()\n",
        "sess.run(init)\n",
        "print(sess.run(linear_model,{x:[1,2,3,4]}))"
      ],
      "execution_count": 8,
      "outputs": [
        {
          "output_type": "stream",
          "text": [
            "[3. 5. 7. 9.]\n"
          ],
          "name": "stdout"
        }
      ]
    },
    {
      "metadata": {
        "id": "KiBYFFkXA4PP",
        "colab_type": "code",
        "colab": {}
      },
      "cell_type": "code",
      "source": [
        ""
      ],
      "execution_count": 0,
      "outputs": []
    }
  ]
}